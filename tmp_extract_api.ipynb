{
 "cells": [
  {
   "cell_type": "code",
   "execution_count": 1,
   "metadata": {},
   "outputs": [],
   "source": [
    "# Only doing once: Install a pip package in the current Jupyter kernel\n",
    "# import sys\n",
    "# !{sys.executable} -m pip install pyflightdata"
   ]
  },
  {
   "cell_type": "code",
   "execution_count": 3,
   "metadata": {},
   "outputs": [],
   "source": [
    "from pyflightdata import FlightData\n",
    "import pandas as pd"
   ]
  },
  {
   "cell_type": "code",
   "execution_count": 2,
   "metadata": {},
   "outputs": [],
   "source": [
    "# Get statistics from given airport: TFS \n",
    "f=FlightData()\n",
    "data = f.get_airport_stats('TFS',page=1,limit=10)"
   ]
  },
  {
   "cell_type": "code",
   "execution_count": 9,
   "metadata": {},
   "outputs": [
    {
     "data": {
      "text/html": [
       "<div>\n",
       "<style scoped>\n",
       "    .dataframe tbody tr th:only-of-type {\n",
       "        vertical-align: middle;\n",
       "    }\n",
       "\n",
       "    .dataframe tbody tr th {\n",
       "        vertical-align: top;\n",
       "    }\n",
       "\n",
       "    .dataframe thead th {\n",
       "        text-align: right;\n",
       "    }\n",
       "</style>\n",
       "<table border=\"1\" class=\"dataframe\">\n",
       "  <thead>\n",
       "    <tr style=\"text-align: right;\">\n",
       "      <th></th>\n",
       "      <th>arrivals.delayIndex</th>\n",
       "      <th>arrivals.delayAvg</th>\n",
       "      <th>arrivals.percentage.delayed</th>\n",
       "      <th>arrivals.percentage.canceled</th>\n",
       "      <th>arrivals.percentage.trend</th>\n",
       "      <th>arrivals.recent.delayIndex</th>\n",
       "      <th>arrivals.recent.delayAvg</th>\n",
       "      <th>arrivals.recent.percentage.delayed</th>\n",
       "      <th>arrivals.recent.percentage.canceled</th>\n",
       "      <th>arrivals.recent.percentage.trend</th>\n",
       "      <th>...</th>\n",
       "      <th>departures.today.quantity.onTime</th>\n",
       "      <th>departures.today.quantity.delayed</th>\n",
       "      <th>departures.today.quantity.canceled</th>\n",
       "      <th>departures.yesterday.percentage.delayed</th>\n",
       "      <th>departures.yesterday.percentage.canceled</th>\n",
       "      <th>departures.yesterday.quantity.onTime</th>\n",
       "      <th>departures.yesterday.quantity.delayed</th>\n",
       "      <th>departures.yesterday.quantity.canceled</th>\n",
       "      <th>departures.tomorrow.percentage.canceled</th>\n",
       "      <th>departures.tomorrow.quantity.canceled</th>\n",
       "    </tr>\n",
       "  </thead>\n",
       "  <tbody>\n",
       "    <tr>\n",
       "      <th>0</th>\n",
       "      <td>0.42</td>\n",
       "      <td>5</td>\n",
       "      <td>0</td>\n",
       "      <td>0</td>\n",
       "      <td>down</td>\n",
       "      <td>0.42</td>\n",
       "      <td>5</td>\n",
       "      <td>0</td>\n",
       "      <td>0</td>\n",
       "      <td>down</td>\n",
       "      <td>...</td>\n",
       "      <td>7</td>\n",
       "      <td>2</td>\n",
       "      <td>0</td>\n",
       "      <td>0.33</td>\n",
       "      <td>0</td>\n",
       "      <td>91</td>\n",
       "      <td>44</td>\n",
       "      <td>0</td>\n",
       "      <td>0</td>\n",
       "      <td>0</td>\n",
       "    </tr>\n",
       "  </tbody>\n",
       "</table>\n",
       "<p>1 rows × 50 columns</p>\n",
       "</div>"
      ],
      "text/plain": [
       "   arrivals.delayIndex  arrivals.delayAvg  arrivals.percentage.delayed  \\\n",
       "0                 0.42                  5                            0   \n",
       "\n",
       "   arrivals.percentage.canceled arrivals.percentage.trend  \\\n",
       "0                             0                      down   \n",
       "\n",
       "   arrivals.recent.delayIndex  arrivals.recent.delayAvg  \\\n",
       "0                        0.42                         5   \n",
       "\n",
       "   arrivals.recent.percentage.delayed  arrivals.recent.percentage.canceled  \\\n",
       "0                                   0                                    0   \n",
       "\n",
       "  arrivals.recent.percentage.trend  ...  departures.today.quantity.onTime  \\\n",
       "0                             down  ...                                 7   \n",
       "\n",
       "   departures.today.quantity.delayed  departures.today.quantity.canceled  \\\n",
       "0                                  2                                   0   \n",
       "\n",
       "   departures.yesterday.percentage.delayed  \\\n",
       "0                                     0.33   \n",
       "\n",
       "   departures.yesterday.percentage.canceled  \\\n",
       "0                                         0   \n",
       "\n",
       "   departures.yesterday.quantity.onTime  \\\n",
       "0                                    91   \n",
       "\n",
       "   departures.yesterday.quantity.delayed  \\\n",
       "0                                     44   \n",
       "\n",
       "   departures.yesterday.quantity.canceled  \\\n",
       "0                                       0   \n",
       "\n",
       "   departures.tomorrow.percentage.canceled  \\\n",
       "0                                        0   \n",
       "\n",
       "   departures.tomorrow.quantity.canceled  \n",
       "0                                      0  \n",
       "\n",
       "[1 rows x 50 columns]"
      ]
     },
     "execution_count": 9,
     "metadata": {},
     "output_type": "execute_result"
    }
   ],
   "source": [
    "tmp = pd.json_normalize(data)\n",
    "tmp"
   ]
  },
  {
   "cell_type": "code",
   "execution_count": 10,
   "metadata": {},
   "outputs": [],
   "source": [
    "\n",
    "\n",
    "tmp_selected = tmp[[\"departures.yesterday.quantity.onTime\", \n",
    "                    \"departures.yesterday.quantity.delayed\",\n",
    "                    \"departures.yesterday.quantity.canceled\",\n",
    "                    \"arrivals.yesterday.quantity.onTime\", \n",
    "                    \"arrivals.yesterday.quantity.delayed\",\n",
    "                    \"arrivals.yesterday.quantity.canceled\",\n",
    "                    ]]"
   ]
  },
  {
   "cell_type": "code",
   "execution_count": 13,
   "metadata": {},
   "outputs": [
    {
     "name": "stderr",
     "output_type": "stream",
     "text": [
      "/var/folders/rh/811h48s51457sn_sb4w1ts9r0000gn/T/ipykernel_81416/2790454671.py:1: SettingWithCopyWarning: \n",
      "A value is trying to be set on a copy of a slice from a DataFrame\n",
      "\n",
      "See the caveats in the documentation: https://pandas.pydata.org/pandas-docs/stable/user_guide/indexing.html#returning-a-view-versus-a-copy\n",
      "  tmp_selected.rename(columns={'departures.yesterday.quantity.onTime': 'departures_onTime',\n"
     ]
    }
   ],
   "source": [
    "tmp_selected.rename(columns={'departures.yesterday.quantity.onTime': 'departures_onTime',\n",
    "                             'departures.yesterday.quantity.delayed': 'departures_delayed',\n",
    "                             'departures.yesterday.quantity.canceled': 'departures_canceled',\n",
    "                             'arrivals.yesterday.quantity.onTime': 'arrivals_onTime',\n",
    "                             'arrivals.yesterday.quantity.delayed': 'arrivals_delayed',\n",
    "                             'arrivals.yesterday.quantity.canceled': 'arrivals_canceled'\n",
    "                             }, inplace=True)"
   ]
  },
  {
   "cell_type": "code",
   "execution_count": 16,
   "metadata": {},
   "outputs": [
    {
     "name": "stderr",
     "output_type": "stream",
     "text": [
      "/var/folders/rh/811h48s51457sn_sb4w1ts9r0000gn/T/ipykernel_81416/2495213282.py:1: SettingWithCopyWarning: \n",
      "A value is trying to be set on a copy of a slice from a DataFrame.\n",
      "Try using .loc[row_indexer,col_indexer] = value instead\n",
      "\n",
      "See the caveats in the documentation: https://pandas.pydata.org/pandas-docs/stable/user_guide/indexing.html#returning-a-view-versus-a-copy\n",
      "  tmp_selected['airport_code'] = 'TFS'\n"
     ]
    }
   ],
   "source": [
    "tmp_selected['airport_code'] = 'TFS'"
   ]
  },
  {
   "cell_type": "code",
   "execution_count": 17,
   "metadata": {},
   "outputs": [
    {
     "name": "stdout",
     "output_type": "stream",
     "text": [
      "<class 'pandas.core.frame.DataFrame'>\n",
      "RangeIndex: 1 entries, 0 to 0\n",
      "Data columns (total 7 columns):\n",
      " #   Column               Non-Null Count  Dtype \n",
      "---  ------               --------------  ----- \n",
      " 0   departures_onTime    1 non-null      int64 \n",
      " 1   departures_delayed   1 non-null      int64 \n",
      " 2   departures_canceled  1 non-null      int64 \n",
      " 3   arrivals_onTime      1 non-null      int64 \n",
      " 4   arrivals_delayed     1 non-null      int64 \n",
      " 5   arrivals_canceled    1 non-null      int64 \n",
      " 6   airport_code         1 non-null      object\n",
      "dtypes: int64(6), object(1)\n",
      "memory usage: 184.0+ bytes\n",
      "None\n"
     ]
    }
   ],
   "source": [
    "print(tmp_selected.info())"
   ]
  },
  {
   "cell_type": "code",
   "execution_count": 20,
   "metadata": {},
   "outputs": [
    {
     "data": {
      "text/html": [
       "<div>\n",
       "<style scoped>\n",
       "    .dataframe tbody tr th:only-of-type {\n",
       "        vertical-align: middle;\n",
       "    }\n",
       "\n",
       "    .dataframe tbody tr th {\n",
       "        vertical-align: top;\n",
       "    }\n",
       "\n",
       "    .dataframe thead th {\n",
       "        text-align: right;\n",
       "    }\n",
       "</style>\n",
       "<table border=\"1\" class=\"dataframe\">\n",
       "  <thead>\n",
       "    <tr style=\"text-align: right;\">\n",
       "      <th></th>\n",
       "      <th>departures_onTime</th>\n",
       "      <th>departures_delayed</th>\n",
       "      <th>departures_canceled</th>\n",
       "      <th>arrivals_onTime</th>\n",
       "      <th>arrivals_delayed</th>\n",
       "      <th>arrivals_canceled</th>\n",
       "      <th>airport_code</th>\n",
       "    </tr>\n",
       "  </thead>\n",
       "  <tbody>\n",
       "    <tr>\n",
       "      <th>0</th>\n",
       "      <td>91</td>\n",
       "      <td>44</td>\n",
       "      <td>0</td>\n",
       "      <td>114</td>\n",
       "      <td>14</td>\n",
       "      <td>0</td>\n",
       "      <td>TFS</td>\n",
       "    </tr>\n",
       "  </tbody>\n",
       "</table>\n",
       "</div>"
      ],
      "text/plain": [
       "   departures_onTime  departures_delayed  departures_canceled  \\\n",
       "0                 91                  44                    0   \n",
       "\n",
       "   arrivals_onTime  arrivals_delayed  arrivals_canceled airport_code  \n",
       "0              114                14                  0          TFS  "
      ]
     },
     "execution_count": 20,
     "metadata": {},
     "output_type": "execute_result"
    }
   ],
   "source": [
    "tmp_selected_tfs = tmp_selected\n",
    "tmp_selected_tfs"
   ]
  },
  {
   "cell_type": "code",
   "execution_count": 25,
   "metadata": {},
   "outputs": [],
   "source": [
    "# Get statistics from given airport: IAD\n",
    "f=FlightData()\n",
    "data = f.get_airport_stats('IAD',page=1,limit=10)\n",
    "tmp = pd.json_normalize(data)"
   ]
  },
  {
   "cell_type": "code",
   "execution_count": 26,
   "metadata": {},
   "outputs": [
    {
     "name": "stderr",
     "output_type": "stream",
     "text": [
      "/var/folders/rh/811h48s51457sn_sb4w1ts9r0000gn/T/ipykernel_81416/169056031.py:10: SettingWithCopyWarning: \n",
      "A value is trying to be set on a copy of a slice from a DataFrame\n",
      "\n",
      "See the caveats in the documentation: https://pandas.pydata.org/pandas-docs/stable/user_guide/indexing.html#returning-a-view-versus-a-copy\n",
      "  tmp_selected.rename(columns={'departures.yesterday.quantity.onTime': 'departures_onTime',\n",
      "/var/folders/rh/811h48s51457sn_sb4w1ts9r0000gn/T/ipykernel_81416/169056031.py:18: SettingWithCopyWarning: \n",
      "A value is trying to be set on a copy of a slice from a DataFrame.\n",
      "Try using .loc[row_indexer,col_indexer] = value instead\n",
      "\n",
      "See the caveats in the documentation: https://pandas.pydata.org/pandas-docs/stable/user_guide/indexing.html#returning-a-view-versus-a-copy\n",
      "  tmp_selected['airport_code'] = 'IAD'\n"
     ]
    }
   ],
   "source": [
    "# Select columns and use clean column names\n",
    "tmp_selected = tmp[[\"departures.yesterday.quantity.onTime\", \n",
    "                    \"departures.yesterday.quantity.delayed\",\n",
    "                    \"departures.yesterday.quantity.canceled\",\n",
    "                    \"arrivals.yesterday.quantity.onTime\", \n",
    "                    \"arrivals.yesterday.quantity.delayed\",\n",
    "                    \"arrivals.yesterday.quantity.canceled\",\n",
    "                    ]]\n",
    "\n",
    "tmp_selected.rename(columns={'departures.yesterday.quantity.onTime': 'departures_onTime',\n",
    "                             'departures.yesterday.quantity.delayed': 'departures_delayed',\n",
    "                             'departures.yesterday.quantity.canceled': 'departures_canceled',\n",
    "                             'arrivals.yesterday.quantity.onTime': 'arrivals_onTime',\n",
    "                             'arrivals.yesterday.quantity.delayed': 'arrivals_delayed',\n",
    "                             'arrivals.yesterday.quantity.canceled': 'arrivals_canceled'\n",
    "                             }, inplace=True)\n",
    "\n",
    "tmp_selected['airport_code'] = 'IAD'\n",
    "tmp_selected_iad = tmp_selected"
   ]
  },
  {
   "cell_type": "code",
   "execution_count": 9,
   "metadata": {},
   "outputs": [],
   "source": [
    "# Get statistics from given airport: KRK is not available, replaced by WARSAW airport\n",
    "f=FlightData()\n",
    "data = f.get_airport_stats('WAW',page=1,limit=10)\n",
    "# tmp = pd.json_normalize(data)"
   ]
  },
  {
   "cell_type": "code",
   "execution_count": 10,
   "metadata": {},
   "outputs": [
    {
     "data": {
      "text/plain": [
       "2"
      ]
     },
     "execution_count": 10,
     "metadata": {},
     "output_type": "execute_result"
    }
   ],
   "source": [
    "len(data)"
   ]
  },
  {
   "cell_type": "code",
   "execution_count": 11,
   "metadata": {},
   "outputs": [
    {
     "data": {
      "text/plain": [
       "{'arrivals': {'delayIndex': 0.42,\n",
       "  'delayAvg': 5,\n",
       "  'percentage': {'delayed': 0.25, 'canceled': 0, 'trend': 'down'},\n",
       "  'recent': {'delayIndex': 0.42,\n",
       "   'delayAvg': 5,\n",
       "   'percentage': {'delayed': 0.25, 'canceled': 0, 'trend': 'down'},\n",
       "   'quantity': {'onTime': 9, 'delayed': 3, 'canceled': 0}},\n",
       "  'today': {'percentage': {'delayed': 0.05, 'canceled': 0.01},\n",
       "   'quantity': {'onTime': 38, 'delayed': 9, 'canceled': 1}},\n",
       "  'yesterday': {'percentage': {'delayed': 0.29, 'canceled': 0},\n",
       "   'quantity': {'onTime': 137, 'delayed': 56, 'canceled': 0}},\n",
       "  'tomorrow': {'percentage': {'canceled': 0}, 'quantity': {'canceled': 0}}},\n",
       " 'departures': {'delayIndex': 1.46,\n",
       "  'delayAvg': 18,\n",
       "  'percentage': {'delayed': 0.68, 'canceled': 0, 'trend': 'up'},\n",
       "  'recent': {'delayIndex': 1.46,\n",
       "   'delayAvg': 18,\n",
       "   'percentage': {'delayed': 0.68, 'canceled': 0, 'trend': 'up'},\n",
       "   'quantity': {'onTime': 7, 'delayed': 15, 'canceled': 0}},\n",
       "  'today': {'percentage': {'delayed': 0.29, 'canceled': 0.01},\n",
       "   'quantity': {'onTime': 14, 'delayed': 52, 'canceled': 1}},\n",
       "  'yesterday': {'percentage': {'delayed': 0.83, 'canceled': 0},\n",
       "   'quantity': {'onTime': 32, 'delayed': 158, 'canceled': 0}},\n",
       "  'tomorrow': {'percentage': {'canceled': 0}, 'quantity': {'canceled': 0}}}}"
      ]
     },
     "execution_count": 11,
     "metadata": {},
     "output_type": "execute_result"
    }
   ],
   "source": [
    "data"
   ]
  },
  {
   "cell_type": "code",
   "execution_count": 59,
   "metadata": {},
   "outputs": [
    {
     "name": "stderr",
     "output_type": "stream",
     "text": [
      "/var/folders/rh/811h48s51457sn_sb4w1ts9r0000gn/T/ipykernel_81416/4081344949.py:10: SettingWithCopyWarning: \n",
      "A value is trying to be set on a copy of a slice from a DataFrame\n",
      "\n",
      "See the caveats in the documentation: https://pandas.pydata.org/pandas-docs/stable/user_guide/indexing.html#returning-a-view-versus-a-copy\n",
      "  tmp_selected.rename(columns={'departures.yesterday.quantity.onTime': 'departures_onTime',\n",
      "/var/folders/rh/811h48s51457sn_sb4w1ts9r0000gn/T/ipykernel_81416/4081344949.py:18: SettingWithCopyWarning: \n",
      "A value is trying to be set on a copy of a slice from a DataFrame.\n",
      "Try using .loc[row_indexer,col_indexer] = value instead\n",
      "\n",
      "See the caveats in the documentation: https://pandas.pydata.org/pandas-docs/stable/user_guide/indexing.html#returning-a-view-versus-a-copy\n",
      "  tmp_selected['airport_code'] = 'WAW'\n"
     ]
    }
   ],
   "source": [
    "# Select columns and use clean column names\n",
    "tmp_selected = tmp[[\"departures.yesterday.quantity.onTime\", \n",
    "                    \"departures.yesterday.quantity.delayed\",\n",
    "                    \"departures.yesterday.quantity.canceled\",\n",
    "                    \"arrivals.yesterday.quantity.onTime\", \n",
    "                    \"arrivals.yesterday.quantity.delayed\",\n",
    "                    \"arrivals.yesterday.quantity.canceled\",\n",
    "                    ]]\n",
    "\n",
    "tmp_selected.rename(columns={'departures.yesterday.quantity.onTime': 'departures_onTime',\n",
    "                             'departures.yesterday.quantity.delayed': 'departures_delayed',\n",
    "                             'departures.yesterday.quantity.canceled': 'departures_canceled',\n",
    "                             'arrivals.yesterday.quantity.onTime': 'arrivals_onTime',\n",
    "                             'arrivals.yesterday.quantity.delayed': 'arrivals_delayed',\n",
    "                             'arrivals.yesterday.quantity.canceled': 'arrivals_canceled'\n",
    "                             }, inplace=True)\n",
    "\n",
    "tmp_selected['airport_code'] = 'WAW'\n",
    "tmp_selected_waw = tmp_selected"
   ]
  },
  {
   "cell_type": "code",
   "execution_count": 64,
   "metadata": {},
   "outputs": [
    {
     "data": {
      "text/html": [
       "<div>\n",
       "<style scoped>\n",
       "    .dataframe tbody tr th:only-of-type {\n",
       "        vertical-align: middle;\n",
       "    }\n",
       "\n",
       "    .dataframe tbody tr th {\n",
       "        vertical-align: top;\n",
       "    }\n",
       "\n",
       "    .dataframe thead th {\n",
       "        text-align: right;\n",
       "    }\n",
       "</style>\n",
       "<table border=\"1\" class=\"dataframe\">\n",
       "  <thead>\n",
       "    <tr style=\"text-align: right;\">\n",
       "      <th></th>\n",
       "      <th>index</th>\n",
       "      <th>departures_onTime</th>\n",
       "      <th>departures_delayed</th>\n",
       "      <th>departures_canceled</th>\n",
       "      <th>arrivals_onTime</th>\n",
       "      <th>arrivals_delayed</th>\n",
       "      <th>arrivals_canceled</th>\n",
       "      <th>airport_code</th>\n",
       "    </tr>\n",
       "  </thead>\n",
       "  <tbody>\n",
       "    <tr>\n",
       "      <th>0</th>\n",
       "      <td>0</td>\n",
       "      <td>91</td>\n",
       "      <td>44</td>\n",
       "      <td>0</td>\n",
       "      <td>114</td>\n",
       "      <td>14</td>\n",
       "      <td>0</td>\n",
       "      <td>TFS</td>\n",
       "    </tr>\n",
       "    <tr>\n",
       "      <th>1</th>\n",
       "      <td>0</td>\n",
       "      <td>175</td>\n",
       "      <td>152</td>\n",
       "      <td>1</td>\n",
       "      <td>278</td>\n",
       "      <td>46</td>\n",
       "      <td>1</td>\n",
       "      <td>IAD</td>\n",
       "    </tr>\n",
       "    <tr>\n",
       "      <th>2</th>\n",
       "      <td>0</td>\n",
       "      <td>58</td>\n",
       "      <td>131</td>\n",
       "      <td>0</td>\n",
       "      <td>145</td>\n",
       "      <td>31</td>\n",
       "      <td>1</td>\n",
       "      <td>WAW</td>\n",
       "    </tr>\n",
       "  </tbody>\n",
       "</table>\n",
       "</div>"
      ],
      "text/plain": [
       "   index  departures_onTime  departures_delayed  departures_canceled  \\\n",
       "0      0                 91                  44                    0   \n",
       "1      0                175                 152                    1   \n",
       "2      0                 58                 131                    0   \n",
       "\n",
       "   arrivals_onTime  arrivals_delayed  arrivals_canceled airport_code  \n",
       "0              114                14                  0          TFS  \n",
       "1              278                46                  1          IAD  \n",
       "2              145                31                  1          WAW  "
      ]
     },
     "execution_count": 64,
     "metadata": {},
     "output_type": "execute_result"
    }
   ],
   "source": [
    "tmp_all = pd.concat([tmp_selected_tfs, tmp_selected_iad, tmp_selected_waw], axis=0).reset_index()\n",
    "tmp_all"
   ]
  },
  {
   "cell_type": "code",
   "execution_count": 61,
   "metadata": {},
   "outputs": [],
   "source": [
    "# tmp_all=pd.concat([tmp_selected_tfs, tmp_selected_iad], axis=0).reset_index()\n",
    "# tmp_all.to_csv(\"example_output_extract.csv\")  "
   ]
  },
  {
   "cell_type": "code",
   "execution_count": 62,
   "metadata": {},
   "outputs": [],
   "source": [
    "# tmp_all.dtypes"
   ]
  },
  {
   "cell_type": "code",
   "execution_count": 38,
   "metadata": {},
   "outputs": [
    {
     "name": "stdout",
     "output_type": "stream",
     "text": [
      "2023-02-06\n"
     ]
    }
   ],
   "source": [
    "import datetime as dt \n",
    "# print(dt.datetime.now().strftime(\"%Y-%m-%d\"))"
   ]
  },
  {
   "cell_type": "code",
   "execution_count": 66,
   "metadata": {},
   "outputs": [],
   "source": [
    "tmp_all[\"pull_date\"] = dt.datetime.now().strftime(\"%Y-%m-%d\")"
   ]
  },
  {
   "cell_type": "code",
   "execution_count": 67,
   "metadata": {},
   "outputs": [
    {
     "data": {
      "text/html": [
       "<div>\n",
       "<style scoped>\n",
       "    .dataframe tbody tr th:only-of-type {\n",
       "        vertical-align: middle;\n",
       "    }\n",
       "\n",
       "    .dataframe tbody tr th {\n",
       "        vertical-align: top;\n",
       "    }\n",
       "\n",
       "    .dataframe thead th {\n",
       "        text-align: right;\n",
       "    }\n",
       "</style>\n",
       "<table border=\"1\" class=\"dataframe\">\n",
       "  <thead>\n",
       "    <tr style=\"text-align: right;\">\n",
       "      <th></th>\n",
       "      <th>index</th>\n",
       "      <th>departures_onTime</th>\n",
       "      <th>departures_delayed</th>\n",
       "      <th>departures_canceled</th>\n",
       "      <th>arrivals_onTime</th>\n",
       "      <th>arrivals_delayed</th>\n",
       "      <th>arrivals_canceled</th>\n",
       "      <th>airport_code</th>\n",
       "      <th>pull_date</th>\n",
       "    </tr>\n",
       "  </thead>\n",
       "  <tbody>\n",
       "    <tr>\n",
       "      <th>0</th>\n",
       "      <td>0</td>\n",
       "      <td>91</td>\n",
       "      <td>44</td>\n",
       "      <td>0</td>\n",
       "      <td>114</td>\n",
       "      <td>14</td>\n",
       "      <td>0</td>\n",
       "      <td>TFS</td>\n",
       "      <td>2023-02-06</td>\n",
       "    </tr>\n",
       "    <tr>\n",
       "      <th>1</th>\n",
       "      <td>0</td>\n",
       "      <td>175</td>\n",
       "      <td>152</td>\n",
       "      <td>1</td>\n",
       "      <td>278</td>\n",
       "      <td>46</td>\n",
       "      <td>1</td>\n",
       "      <td>IAD</td>\n",
       "      <td>2023-02-06</td>\n",
       "    </tr>\n",
       "    <tr>\n",
       "      <th>2</th>\n",
       "      <td>0</td>\n",
       "      <td>58</td>\n",
       "      <td>131</td>\n",
       "      <td>0</td>\n",
       "      <td>145</td>\n",
       "      <td>31</td>\n",
       "      <td>1</td>\n",
       "      <td>WAW</td>\n",
       "      <td>2023-02-06</td>\n",
       "    </tr>\n",
       "  </tbody>\n",
       "</table>\n",
       "</div>"
      ],
      "text/plain": [
       "   index  departures_onTime  departures_delayed  departures_canceled  \\\n",
       "0      0                 91                  44                    0   \n",
       "1      0                175                 152                    1   \n",
       "2      0                 58                 131                    0   \n",
       "\n",
       "   arrivals_onTime  arrivals_delayed  arrivals_canceled airport_code  \\\n",
       "0              114                14                  0          TFS   \n",
       "1              278                46                  1          IAD   \n",
       "2              145                31                  1          WAW   \n",
       "\n",
       "    pull_date  \n",
       "0  2023-02-06  \n",
       "1  2023-02-06  \n",
       "2  2023-02-06  "
      ]
     },
     "execution_count": 67,
     "metadata": {},
     "output_type": "execute_result"
    }
   ],
   "source": [
    "tmp_all"
   ]
  },
  {
   "cell_type": "code",
   "execution_count": 68,
   "metadata": {},
   "outputs": [
    {
     "data": {
      "text/html": [
       "<div>\n",
       "<style scoped>\n",
       "    .dataframe tbody tr th:only-of-type {\n",
       "        vertical-align: middle;\n",
       "    }\n",
       "\n",
       "    .dataframe tbody tr th {\n",
       "        vertical-align: top;\n",
       "    }\n",
       "\n",
       "    .dataframe thead th {\n",
       "        text-align: right;\n",
       "    }\n",
       "</style>\n",
       "<table border=\"1\" class=\"dataframe\">\n",
       "  <thead>\n",
       "    <tr style=\"text-align: right;\">\n",
       "      <th></th>\n",
       "      <th>pull_date</th>\n",
       "      <th>airport_code</th>\n",
       "      <th>departures_onTime</th>\n",
       "      <th>departures_delayed</th>\n",
       "      <th>departures_canceled</th>\n",
       "      <th>arrivals_onTime</th>\n",
       "      <th>arrivals_delayed</th>\n",
       "      <th>arrivals_canceled</th>\n",
       "    </tr>\n",
       "  </thead>\n",
       "  <tbody>\n",
       "    <tr>\n",
       "      <th>0</th>\n",
       "      <td>2023-02-06</td>\n",
       "      <td>TFS</td>\n",
       "      <td>91</td>\n",
       "      <td>44</td>\n",
       "      <td>0</td>\n",
       "      <td>114</td>\n",
       "      <td>14</td>\n",
       "      <td>0</td>\n",
       "    </tr>\n",
       "    <tr>\n",
       "      <th>1</th>\n",
       "      <td>2023-02-06</td>\n",
       "      <td>IAD</td>\n",
       "      <td>175</td>\n",
       "      <td>152</td>\n",
       "      <td>1</td>\n",
       "      <td>278</td>\n",
       "      <td>46</td>\n",
       "      <td>1</td>\n",
       "    </tr>\n",
       "    <tr>\n",
       "      <th>2</th>\n",
       "      <td>2023-02-06</td>\n",
       "      <td>WAW</td>\n",
       "      <td>58</td>\n",
       "      <td>131</td>\n",
       "      <td>0</td>\n",
       "      <td>145</td>\n",
       "      <td>31</td>\n",
       "      <td>1</td>\n",
       "    </tr>\n",
       "  </tbody>\n",
       "</table>\n",
       "</div>"
      ],
      "text/plain": [
       "    pull_date airport_code  departures_onTime  departures_delayed  \\\n",
       "0  2023-02-06          TFS                 91                  44   \n",
       "1  2023-02-06          IAD                175                 152   \n",
       "2  2023-02-06          WAW                 58                 131   \n",
       "\n",
       "   departures_canceled  arrivals_onTime  arrivals_delayed  arrivals_canceled  \n",
       "0                    0              114                14                  0  \n",
       "1                    1              278                46                  1  \n",
       "2                    0              145                31                  1  "
      ]
     },
     "execution_count": 68,
     "metadata": {},
     "output_type": "execute_result"
    }
   ],
   "source": [
    "new = pd.DataFrame()\n",
    "# tmp_all[[\"pull_date\",\"airport_code\", \"departures_On\"]]\n",
    "new = tmp_all.iloc[:, [8, 7, 1, 2, 3, 4, 5, 6]]\n",
    "new"
   ]
  },
  {
   "cell_type": "code",
   "execution_count": 69,
   "metadata": {},
   "outputs": [],
   "source": [
    "new.to_csv(\"new_example_output_extract.csv\")  "
   ]
  },
  {
   "cell_type": "code",
   "execution_count": 70,
   "metadata": {},
   "outputs": [
    {
     "data": {
      "text/plain": [
       "pull_date              object\n",
       "airport_code           object\n",
       "departures_onTime       int64\n",
       "departures_delayed      int64\n",
       "departures_canceled     int64\n",
       "arrivals_onTime         int64\n",
       "arrivals_delayed        int64\n",
       "arrivals_canceled       int64\n",
       "dtype: object"
      ]
     },
     "execution_count": 70,
     "metadata": {},
     "output_type": "execute_result"
    }
   ],
   "source": [
    "new.dtypes"
   ]
  },
  {
   "cell_type": "code",
   "execution_count": 12,
   "metadata": {},
   "outputs": [
    {
     "ename": "NameError",
     "evalue": "name 'new' is not defined",
     "output_type": "error",
     "traceback": [
      "\u001b[0;31m---------------------------------------------------------------------------\u001b[0m",
      "\u001b[0;31mNameError\u001b[0m                                 Traceback (most recent call last)",
      "Cell \u001b[0;32mIn[12], line 1\u001b[0m\n\u001b[0;32m----> 1\u001b[0m \u001b[39mprint\u001b[39m(new\u001b[39m.\u001b[39minfo())\n",
      "\u001b[0;31mNameError\u001b[0m: name 'new' is not defined"
     ]
    }
   ],
   "source": [
    "print(new.info())"
   ]
  }
 ],
 "metadata": {
  "kernelspec": {
   "display_name": "Python 3",
   "language": "python",
   "name": "python3"
  },
  "language_info": {
   "codemirror_mode": {
    "name": "ipython",
    "version": 3
   },
   "file_extension": ".py",
   "mimetype": "text/x-python",
   "name": "python",
   "nbconvert_exporter": "python",
   "pygments_lexer": "ipython3",
   "version": "3.10.7"
  },
  "orig_nbformat": 4,
  "vscode": {
   "interpreter": {
    "hash": "8c3d4d9970fc5c09c50d9318a9c7fbf4d0159e4b28833276f5678ee22bded273"
   }
  }
 },
 "nbformat": 4,
 "nbformat_minor": 2
}
