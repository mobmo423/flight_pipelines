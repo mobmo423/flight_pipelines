{
 "cells": [
  {
   "cell_type": "code",
   "execution_count": null,
   "metadata": {},
   "outputs": [],
   "source": [
    "import datetime as dt\n",
    "import os \n",
    "\n",
    "# gather only the history api-data-files\n",
    "all_files = os.listdir()    \n",
    "csv_files = list(filter(lambda f: f.startswith('api_extract_') and f.endswith('.csv'), all_files))\n",
    "# initialize list of dates represented by csv-files\n",
    "history_date_list = [] \n",
    "for i in range(len(csv_files)):\n",
    "    history_date_list.append(dt.datetime.strptime(csv_files[i][12:22], \"%Y-%m-%d\"))\n",
    "# sorting dates descending order (highest value first)\n",
    "history_date_list.sort(reverse=True)\n",
    "\n",
    "# Compare the log-file (\"log_history.csv\") of processing the latest history files:\n",
    "# In case the latest csv-file matches the date of the log-file all history data are \n",
    "# already loaded in the database. \n",
    "# In case the dates of both don't match all available csv-files will be loaded \n",
    "# into the database together.\n",
    "\n",
    "if log_history == history_date_list[0]:\n",
    "    print(\"All history csv-files are already in the data base. Proceeding with the API results of the current request!\")\n",
    "    # @Mike: \n",
    "    # HERE WE NEED THE CODE YOU WROTE FOR LOADING THE OUTPUT OF THE EXTRACT PART \n",
    "    # (DATEFRAME OUTPUT OF ONE SINGLE DAY)\n",
    "else:\n",
    "     print(\"New history csv-files detected. Proceeding with gathering all data from csv-files!\")\n",
    "    # Initialize the dataframe for combining all csv-data\n",
    "    df_all = pd.DataFrame()\n",
    "    # Gathering all csv-data from all files in one data frame (df_all)\n",
    "    for y in csv_files:\n",
    "        df_all = pd.concat([df_all, pd.read_csv(y)],axis=0)\n",
    "    # Create and save a new log_history file to reflect the latest processing\n",
    "    log_tmp = pd.DataFrame()\n",
    "    log_tmp[\"Update_Date\"] = [dt.datetime.strftime(history_date_list[0], \"%Y-%m-%d\")]\n",
    "    log_tmp.to_csv(\"log_history.csv\", index=False)"
   ]
  }
 ],
 "metadata": {
  "language_info": {
   "name": "python"
  },
  "orig_nbformat": 4
 },
 "nbformat": 4,
 "nbformat_minor": 2
}
