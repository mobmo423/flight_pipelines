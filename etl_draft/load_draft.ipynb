{
 "cells": [
  {
   "cell_type": "code",
   "execution_count": 30,
   "metadata": {},
   "outputs": [],
   "source": [
    "import os\n",
    "import requests\n",
    "import pandas as pd \n",
    "import datetime as dt \n",
    "from sqlalchemy import create_engine, Table, Column, Integer, String, MetaData, Float # https://www.tutorialspoint.com/sqlalchemy/sqlalchemy_core_creating_table.htm\n",
    "from sqlalchemy.engine import URL\n",
    "from sqlalchemy.dialects import postgresql\n",
    "from secrets_config import db_user, db_password, db_server_name, db_database_name\n",
    "from sqlalchemy.schema import CreateTable "
   ]
  },
  {
   "cell_type": "code",
   "execution_count": 31,
   "metadata": {},
   "outputs": [],
   "source": [
    "# create connection to database \n",
    "connection_url = URL.create(\n",
    "    drivername = \"postgresql+pg8000\", \n",
    "    username = db_user,\n",
    "    password = db_password,\n",
    "    host = db_server_name, \n",
    "    port = 5432,\n",
    "    database = db_database_name, \n",
    ")\n",
    "\n",
    "engine = create_engine(connection_url)"
   ]
  },
  {
   "cell_type": "code",
   "execution_count": 42,
   "metadata": {},
   "outputs": [
    {
     "data": {
      "text/html": [
       "<div>\n",
       "<style scoped>\n",
       "    .dataframe tbody tr th:only-of-type {\n",
       "        vertical-align: middle;\n",
       "    }\n",
       "\n",
       "    .dataframe tbody tr th {\n",
       "        vertical-align: top;\n",
       "    }\n",
       "\n",
       "    .dataframe thead th {\n",
       "        text-align: right;\n",
       "    }\n",
       "</style>\n",
       "<table border=\"1\" class=\"dataframe\">\n",
       "  <thead>\n",
       "    <tr style=\"text-align: right;\">\n",
       "      <th></th>\n",
       "      <th>pull_date</th>\n",
       "      <th>airport_code</th>\n",
       "      <th>departures_onTime</th>\n",
       "      <th>departures_delayed</th>\n",
       "      <th>departures_canceled</th>\n",
       "      <th>arrivals_onTime</th>\n",
       "      <th>arrivals_delayed</th>\n",
       "      <th>arrivals_canceled</th>\n",
       "    </tr>\n",
       "  </thead>\n",
       "  <tbody>\n",
       "    <tr>\n",
       "      <th>0</th>\n",
       "      <td>2023-02-06</td>\n",
       "      <td>TFS</td>\n",
       "      <td>91</td>\n",
       "      <td>44</td>\n",
       "      <td>0</td>\n",
       "      <td>114</td>\n",
       "      <td>14</td>\n",
       "      <td>0</td>\n",
       "    </tr>\n",
       "    <tr>\n",
       "      <th>1</th>\n",
       "      <td>2023-02-06</td>\n",
       "      <td>IAD</td>\n",
       "      <td>175</td>\n",
       "      <td>152</td>\n",
       "      <td>1</td>\n",
       "      <td>278</td>\n",
       "      <td>46</td>\n",
       "      <td>1</td>\n",
       "    </tr>\n",
       "    <tr>\n",
       "      <th>2</th>\n",
       "      <td>2023-02-06</td>\n",
       "      <td>WAW</td>\n",
       "      <td>58</td>\n",
       "      <td>131</td>\n",
       "      <td>0</td>\n",
       "      <td>145</td>\n",
       "      <td>31</td>\n",
       "      <td>1</td>\n",
       "    </tr>\n",
       "  </tbody>\n",
       "</table>\n",
       "</div>"
      ],
      "text/plain": [
       "    pull_date airport_code  departures_onTime  departures_delayed  \\\n",
       "0  2023-02-06          TFS                 91                  44   \n",
       "1  2023-02-06          IAD                175                 152   \n",
       "2  2023-02-06          WAW                 58                 131   \n",
       "\n",
       "   departures_canceled  arrivals_onTime  arrivals_delayed  arrivals_canceled  \n",
       "0                    0              114                14                  0  \n",
       "1                    1              278                46                  1  \n",
       "2                    0              145                31                  1  "
      ]
     },
     "execution_count": 42,
     "metadata": {},
     "output_type": "execute_result"
    }
   ],
   "source": [
    "df = pd.read_csv('data/new_example_output_extract.csv')\n",
    "df = df.drop(columns='Unnamed: 0')\n",
    "df.head()"
   ]
  },
  {
   "cell_type": "code",
   "execution_count": 33,
   "metadata": {},
   "outputs": [],
   "source": [
    "current_timestamp = dt.datetime.now().strftime(\"%Y-%m-%d-%H-%M-%S\")\n",
    "df.to_parquet(f\"data/flights_{current_timestamp}.parquet\")"
   ]
  },
  {
   "cell_type": "code",
   "execution_count": 7,
   "metadata": {},
   "outputs": [],
   "source": [
    "#df.to_parquet(\"data/flights.parquet\")"
   ]
  },
  {
   "cell_type": "code",
   "execution_count": null,
   "metadata": {},
   "outputs": [],
   "source": [
    "# # upsert (update and insert) data to a csv file \n",
    "# if \"flights.parquet\" in os.listdir(\"data/\"): \n",
    "#     df_current = pd.read_parquet(\"data/flights.parquet\")\n",
    "#     df_concat = pd.concat(objs=[df_current,df_selected[~df_selected.index.isin(df_current.index)]]) # ~: converts true to false, and false to true. \n",
    "#     df_concat.to_parquet(\"data/flights.parquet\")\n",
    "# else:\n",
    "#     df_selected.to_parquet(\"data/flights.parquet\")"
   ]
  },
  {
   "cell_type": "code",
   "execution_count": 34,
   "metadata": {},
   "outputs": [],
   "source": [
    "meta = MetaData()\n",
    "flights_table = Table(\n",
    "    \"flights\", meta, \n",
    "    Column(\"pull_date\", String, primary_key=True),\n",
    "    Column(\"airport_code\", String, primary_key=True),\n",
    "    Column(\"departures_onTime\", Integer),\n",
    "    Column(\"departures_delayed\", Integer),\n",
    "    Column(\"departures_canceled\", Integer),\n",
    "    Column(\"arrivals_onTime\", Integer),\n",
    "    Column(\"arrivals_delayed\", Integer),\n",
    "    Column(\"arrivals_canceled\", Integer)\n",
    ")\n",
    "meta.create_all(engine) # creates table if it does not exist "
   ]
  },
  {
   "cell_type": "code",
   "execution_count": 35,
   "metadata": {},
   "outputs": [
    {
     "data": {
      "text/plain": [
       "<sqlalchemy.engine.cursor.LegacyCursorResult at 0x28b989efdc0>"
      ]
     },
     "execution_count": 35,
     "metadata": {},
     "output_type": "execute_result"
    }
   ],
   "source": [
    "insert_statement = postgresql.insert(flights_table).values(df.to_dict(orient='records'))\n",
    "upsert_statement = insert_statement.on_conflict_do_update(\n",
    "    index_elements=['pull_date', 'airport_code'],\n",
    "    set_={c.key: c for c in insert_statement.excluded if c.key not in ['pull_date', 'airport_code']})\n",
    "engine.execute(upsert_statement)"
   ]
  }
 ],
 "metadata": {
  "kernelspec": {
   "display_name": "Python 3",
   "language": "python",
   "name": "python3"
  },
  "language_info": {
   "codemirror_mode": {
    "name": "ipython",
    "version": 3
   },
   "file_extension": ".py",
   "mimetype": "text/x-python",
   "name": "python",
   "nbconvert_exporter": "python",
   "pygments_lexer": "ipython3",
   "version": "3.10.5 (main, Oct  7 2022, 13:57:40) [Clang 14.0.0 (clang-1400.0.29.102)]"
  },
  "orig_nbformat": 4,
  "vscode": {
   "interpreter": {
    "hash": "3a4ed4f1f32148f1d50347956b1450c8b273e030fba2d183e340e98371331684"
   }
  }
 },
 "nbformat": 4,
 "nbformat_minor": 2
}
